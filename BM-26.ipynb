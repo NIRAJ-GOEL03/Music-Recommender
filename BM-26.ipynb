{
 "cells": [
  {
   "cell_type": "code",
   "execution_count": 34,
   "metadata": {
    "collapsed": true
   },
   "outputs": [],
   "source": [
    "import json\n",
    "import pandas as pd\n",
    "import numpy as np\n",
    "from pandas.io.json import json_normalize\n",
    "from nltk.corpus import stopwords\n",
    "from nltk.stem import PorterStemmer\n",
    "from collections import defaultdict\n",
    "import math\n",
    "import pickle"
   ]
  },
  {
   "cell_type": "code",
   "execution_count": 35,
   "metadata": {
    "collapsed": true
   },
   "outputs": [],
   "source": [
    "def save_obj(obj, name):\n",
    "    with open('saved_content/'+ name + '.pkl', 'wb') as f:\n",
    "        pickle.dump(obj, f, pickle.HIGHEST_PROTOCOL)"
   ]
  },
  {
   "cell_type": "code",
   "execution_count": 36,
   "metadata": {
    "collapsed": true
   },
   "outputs": [],
   "source": [
    "#global constants\n",
    "num_train_slices = 1\n",
    "num_test_slices = 1\n",
    "num_predictions = 500\n",
    "num_hidden_tracks = 4"
   ]
  },
  {
   "cell_type": "code",
   "execution_count": 37,
   "metadata": {},
   "outputs": [
    {
     "name": "stdout",
     "output_type": "stream",
     "text": [
      "Number of playlists loaded: 2\n"
     ]
    }
   ],
   "source": [
    "df = pd.DataFrame()\n",
    "\n",
    "prediction_df = pd.DataFrame()\n",
    "hidden_df = pd.DataFrame()\n",
    "\n",
    "\n",
    "for x in range(0, num_train_slices):\n",
    "    #file_name = './data/mpd.slice.' + str(x*1000) + '-' + str(x*1000+999) + '.json'\n",
    "    file_name = './data/train.json'\n",
    "    with open(file_name) as json_file:\n",
    "        json_data = json.load(json_file)\n",
    "        df = pd.concat([df, json_normalize(json_data['playlists'])])\n",
    "        \n",
    "print \"Number of playlists loaded:\", len(df)"
   ]
  },
  {
   "cell_type": "code",
   "execution_count": 38,
   "metadata": {},
   "outputs": [
    {
     "name": "stdout",
     "output_type": "stream",
     "text": [
      "Main data:\n"
     ]
    },
    {
     "data": {
      "text/html": [
       "<div>\n",
       "<style>\n",
       "    .dataframe thead tr:only-child th {\n",
       "        text-align: right;\n",
       "    }\n",
       "\n",
       "    .dataframe thead th {\n",
       "        text-align: left;\n",
       "    }\n",
       "\n",
       "    .dataframe tbody tr th {\n",
       "        vertical-align: top;\n",
       "    }\n",
       "</style>\n",
       "<table border=\"1\" class=\"dataframe\">\n",
       "  <thead>\n",
       "    <tr style=\"text-align: right;\">\n",
       "      <th></th>\n",
       "      <th>collaborative</th>\n",
       "      <th>description</th>\n",
       "      <th>duration_ms</th>\n",
       "      <th>modified_at</th>\n",
       "      <th>name</th>\n",
       "      <th>num_albums</th>\n",
       "      <th>num_artists</th>\n",
       "      <th>num_edits</th>\n",
       "      <th>num_followers</th>\n",
       "      <th>num_tracks</th>\n",
       "      <th>pid</th>\n",
       "      <th>tracks</th>\n",
       "    </tr>\n",
       "  </thead>\n",
       "  <tbody>\n",
       "    <tr>\n",
       "      <th>0</th>\n",
       "      <td>false</td>\n",
       "      <td>New songs are in Playlist</td>\n",
       "      <td>11532414</td>\n",
       "      <td>1493424000</td>\n",
       "      <td>Throwbacks</td>\n",
       "      <td>47</td>\n",
       "      <td>37</td>\n",
       "      <td>6</td>\n",
       "      <td>1</td>\n",
       "      <td>52</td>\n",
       "      <td>0</td>\n",
       "      <td>[{u'pos': 0, u'artist_name': u'Missy Elliott',...</td>\n",
       "    </tr>\n",
       "    <tr>\n",
       "      <th>1</th>\n",
       "      <td>false</td>\n",
       "      <td>Old songs are in Playlist</td>\n",
       "      <td>11656470</td>\n",
       "      <td>1506556800</td>\n",
       "      <td>Awesome Playlist</td>\n",
       "      <td>23</td>\n",
       "      <td>21</td>\n",
       "      <td>5</td>\n",
       "      <td>1</td>\n",
       "      <td>39</td>\n",
       "      <td>1</td>\n",
       "      <td>[{u'pos': 0, u'artist_name': u'Survivor', u'tr...</td>\n",
       "    </tr>\n",
       "  </tbody>\n",
       "</table>\n",
       "</div>"
      ],
      "text/plain": [
       "  collaborative                description  duration_ms  modified_at  \\\n",
       "0         false  New songs are in Playlist     11532414   1493424000   \n",
       "1         false  Old songs are in Playlist     11656470   1506556800   \n",
       "\n",
       "               name  num_albums  num_artists  num_edits  num_followers  \\\n",
       "0        Throwbacks          47           37          6              1   \n",
       "1  Awesome Playlist          23           21          5              1   \n",
       "\n",
       "   num_tracks  pid                                             tracks  \n",
       "0          52    0  [{u'pos': 0, u'artist_name': u'Missy Elliott',...  \n",
       "1          39    1  [{u'pos': 0, u'artist_name': u'Survivor', u'tr...  "
      ]
     },
     "execution_count": 38,
     "metadata": {},
     "output_type": "execute_result"
    }
   ],
   "source": [
    "print \"Main data:\"\n",
    "df.head()"
   ]
  },
  {
   "cell_type": "code",
   "execution_count": 39,
   "metadata": {},
   "outputs": [
    {
     "name": "stdout",
     "output_type": "stream",
     "text": [
      "Number of rows containing description: 2\n"
     ]
    }
   ],
   "source": [
    "print \"Number of rows containing description:\", len(df[df['description'].notnull()])"
   ]
  },
  {
   "cell_type": "markdown",
   "metadata": {},
   "source": [
    "### Because so few rows contain description, we decided that song similarity using text matching and emotion will not be a major help towards playlist prediction."
   ]
  },
  {
   "cell_type": "code",
   "execution_count": 40,
   "metadata": {
    "collapsed": true
   },
   "outputs": [],
   "source": [
    "df['name_words'] = df.name.str.strip().str.split('[\\W_]+')\n",
    "df['desc_words'] = df.description.str.strip().str.split('[\\W_]+')\n",
    "\n",
    "df.loc[df['name_words'].isnull(),'name_words'] = df.loc[df['name_words'].isnull(),'name_words'].apply(lambda x: [])\n",
    "df.loc[df['desc_words'].isnull(),'desc_words'] = df.loc[df['desc_words'].isnull(),'desc_words'].apply(lambda x: [])"
   ]
  },
  {
   "cell_type": "markdown",
   "metadata": {},
   "source": [
    "# BAG OF WORDS MODEL"
   ]
  },
  {
   "cell_type": "code",
   "execution_count": 41,
   "metadata": {
    "collapsed": true
   },
   "outputs": [],
   "source": [
    "stop = set(stopwords.words('english'))\n",
    "stemmer = PorterStemmer()\n",
    "\n",
    "desc_word_columns = []\n",
    "name_word_columns = []\n",
    "for index, row in df.iterrows():\n",
    "    desc_words_unstem = [word for word in row['desc_words'] if word not in stop]\n",
    "    desc_words=[]\n",
    "    for word in desc_words_unstem:\n",
    "        if not (word==' ' or word==''):\n",
    "            desc_words.append(stemmer.stem(word.lower()))\n",
    "    desc_word_columns.append(desc_words)\n",
    "    \n",
    "    name_words_unstem = [word for word in row['name_words'] if word not in stop]\n",
    "    name_words=[]\n",
    "    for word in name_words_unstem:\n",
    "        if not (word==' 'or word==''):\n",
    "            name_words.append(stemmer.stem(word.lower()))\n",
    "    name_word_columns.append(name_words)\n",
    "\n",
    "df['desc_words'] = desc_word_columns\n",
    "df['name_words'] = name_word_columns"
   ]
  },
  {
   "cell_type": "code",
   "execution_count": 42,
   "metadata": {},
   "outputs": [
    {
     "data": {
      "text/html": [
       "<div>\n",
       "<style>\n",
       "    .dataframe thead tr:only-child th {\n",
       "        text-align: right;\n",
       "    }\n",
       "\n",
       "    .dataframe thead th {\n",
       "        text-align: left;\n",
       "    }\n",
       "\n",
       "    .dataframe tbody tr th {\n",
       "        vertical-align: top;\n",
       "    }\n",
       "</style>\n",
       "<table border=\"1\" class=\"dataframe\">\n",
       "  <thead>\n",
       "    <tr style=\"text-align: right;\">\n",
       "      <th></th>\n",
       "      <th>collaborative</th>\n",
       "      <th>description</th>\n",
       "      <th>duration_ms</th>\n",
       "      <th>modified_at</th>\n",
       "      <th>name</th>\n",
       "      <th>num_albums</th>\n",
       "      <th>num_artists</th>\n",
       "      <th>num_edits</th>\n",
       "      <th>num_followers</th>\n",
       "      <th>num_tracks</th>\n",
       "      <th>pid</th>\n",
       "      <th>tracks</th>\n",
       "      <th>name_words</th>\n",
       "      <th>desc_words</th>\n",
       "    </tr>\n",
       "  </thead>\n",
       "  <tbody>\n",
       "    <tr>\n",
       "      <th>0</th>\n",
       "      <td>false</td>\n",
       "      <td>New songs are in Playlist</td>\n",
       "      <td>11532414</td>\n",
       "      <td>1493424000</td>\n",
       "      <td>Throwbacks</td>\n",
       "      <td>47</td>\n",
       "      <td>37</td>\n",
       "      <td>6</td>\n",
       "      <td>1</td>\n",
       "      <td>52</td>\n",
       "      <td>0</td>\n",
       "      <td>[{u'pos': 0, u'artist_name': u'Missy Elliott',...</td>\n",
       "      <td>[throwback]</td>\n",
       "      <td>[new, song, playlist]</td>\n",
       "    </tr>\n",
       "    <tr>\n",
       "      <th>1</th>\n",
       "      <td>false</td>\n",
       "      <td>Old songs are in Playlist</td>\n",
       "      <td>11656470</td>\n",
       "      <td>1506556800</td>\n",
       "      <td>Awesome Playlist</td>\n",
       "      <td>23</td>\n",
       "      <td>21</td>\n",
       "      <td>5</td>\n",
       "      <td>1</td>\n",
       "      <td>39</td>\n",
       "      <td>1</td>\n",
       "      <td>[{u'pos': 0, u'artist_name': u'Survivor', u'tr...</td>\n",
       "      <td>[awesom, playlist]</td>\n",
       "      <td>[old, song, playlist]</td>\n",
       "    </tr>\n",
       "  </tbody>\n",
       "</table>\n",
       "</div>"
      ],
      "text/plain": [
       "  collaborative                description  duration_ms  modified_at  \\\n",
       "0         false  New songs are in Playlist     11532414   1493424000   \n",
       "1         false  Old songs are in Playlist     11656470   1506556800   \n",
       "\n",
       "               name  num_albums  num_artists  num_edits  num_followers  \\\n",
       "0        Throwbacks          47           37          6              1   \n",
       "1  Awesome Playlist          23           21          5              1   \n",
       "\n",
       "   num_tracks  pid                                             tracks  \\\n",
       "0          52    0  [{u'pos': 0, u'artist_name': u'Missy Elliott',...   \n",
       "1          39    1  [{u'pos': 0, u'artist_name': u'Survivor', u'tr...   \n",
       "\n",
       "           name_words             desc_words  \n",
       "0         [throwback]  [new, song, playlist]  \n",
       "1  [awesom, playlist]  [old, song, playlist]  "
      ]
     },
     "execution_count": 42,
     "metadata": {},
     "output_type": "execute_result"
    }
   ],
   "source": [
    "df[df['description'].notnull()].head()"
   ]
  },
  {
   "cell_type": "code",
   "execution_count": null,
   "metadata": {},
   "outputs": [],
   "source": []
  },
  {
   "cell_type": "code",
   "execution_count": 43,
   "metadata": {},
   "outputs": [
    {
     "name": "stdout",
     "output_type": "stream",
     "text": [
      "Total time taken:0.00399994850159\n"
     ]
    }
   ],
   "source": [
    "ticks = time.time()\n",
    "columns = ['track_uri', 'track_name', 'artist_uri', 'artist_name', 'album_uri', 'album_name','name_words','desc_words']\n",
    "\n",
    "tracks_df_list = []\n",
    "\n",
    "for row in df.itertuples():\n",
    "    tracks = row.tracks\n",
    "    for song in tracks:\n",
    "        tracks_df_list.append([song['track_uri'], song['track_name'],song['artist_uri'],\n",
    "                            song['artist_name'], song['album_uri'], song['album_name'],\n",
    "                            row.name_words,row.desc_words])\n",
    "\n",
    "tracks_df_tmp = pd.DataFrame(tracks_df_list, columns=columns)\n",
    "\n",
    "time_taken = time.time() - ticks\n",
    "print('Total time taken:{}'.format(time_taken))"
   ]
  },
  {
   "cell_type": "code",
   "execution_count": 44,
   "metadata": {},
   "outputs": [
    {
     "name": "stdout",
     "output_type": "stream",
     "text": [
      "Unique tracks: 89\n",
      "Total time taken:0.0920000076294\n"
     ]
    },
    {
     "data": {
      "text/html": [
       "<div>\n",
       "<style>\n",
       "    .dataframe thead tr:only-child th {\n",
       "        text-align: right;\n",
       "    }\n",
       "\n",
       "    .dataframe thead th {\n",
       "        text-align: left;\n",
       "    }\n",
       "\n",
       "    .dataframe tbody tr th {\n",
       "        vertical-align: top;\n",
       "    }\n",
       "</style>\n",
       "<table border=\"1\" class=\"dataframe\">\n",
       "  <thead>\n",
       "    <tr style=\"text-align: right;\">\n",
       "      <th></th>\n",
       "      <th>track_uri</th>\n",
       "      <th>track_name</th>\n",
       "      <th>artist_uri</th>\n",
       "      <th>artist_name</th>\n",
       "      <th>album_uri</th>\n",
       "      <th>album_name</th>\n",
       "      <th>words</th>\n",
       "      <th>count</th>\n",
       "    </tr>\n",
       "  </thead>\n",
       "  <tbody>\n",
       "    <tr>\n",
       "      <th>0</th>\n",
       "      <td>spotify:track:1HZ3cUZUw5htSFmah1V8Ko</td>\n",
       "      <td>Shine</td>\n",
       "      <td>spotify:artist:4e5V1Q2dKCzbLVMQ8qbTn6</td>\n",
       "      <td>Collective Soul</td>\n",
       "      <td>spotify:album:3uSVy9q97sAzd5UE0dMdOT</td>\n",
       "      <td>Hints, Allegations &amp; Things Left Unsaid</td>\n",
       "      <td>[awesom, playlist, old, song, playlist]</td>\n",
       "      <td>1</td>\n",
       "    </tr>\n",
       "    <tr>\n",
       "      <th>1</th>\n",
       "      <td>spotify:track:3H1LCvO3fVsK2HPguhbml0</td>\n",
       "      <td>Forever</td>\n",
       "      <td>spotify:artist:7bXgB6jMjp9ATFy66eO08Z</td>\n",
       "      <td>Chris Brown</td>\n",
       "      <td>spotify:album:1UtE4zAlSE2TlKmTFgrTg5</td>\n",
       "      <td>Exclusive - The Forever Edition</td>\n",
       "      <td>[throwback, new, song, playlist]</td>\n",
       "      <td>1</td>\n",
       "    </tr>\n",
       "    <tr>\n",
       "      <th>2</th>\n",
       "      <td>spotify:track:6UGHk2cmbDC1oidVjXcCKo</td>\n",
       "      <td>Red Barchetta</td>\n",
       "      <td>spotify:artist:2Hkut4rAAyrQxRdof7FVJq</td>\n",
       "      <td>Rush</td>\n",
       "      <td>spotify:album:2xg7iIKoSqaDNpDbJnyCjY</td>\n",
       "      <td>Moving Pictures</td>\n",
       "      <td>[awesom, playlist, old, song, playlist]</td>\n",
       "      <td>1</td>\n",
       "    </tr>\n",
       "    <tr>\n",
       "      <th>3</th>\n",
       "      <td>spotify:track:1X5WGCrUMuwRFuYU1eAo2I</td>\n",
       "      <td>Livin on Sunday</td>\n",
       "      <td>spotify:artist:7vWBZm3sQ8yQvfV4nXxHXK</td>\n",
       "      <td>Cris Cab</td>\n",
       "      <td>spotify:album:2kNznk4KDkYXifzOAUDoXN</td>\n",
       "      <td>Red Road</td>\n",
       "      <td>[throwback, new, song, playlist]</td>\n",
       "      <td>1</td>\n",
       "    </tr>\n",
       "    <tr>\n",
       "      <th>4</th>\n",
       "      <td>spotify:track:1b7vg5T9YKR3NNqXfBYRF7</td>\n",
       "      <td>Check Yes Juliet</td>\n",
       "      <td>spotify:artist:3ao3jf5d70Tf4fPh2bnXVl</td>\n",
       "      <td>We The Kings</td>\n",
       "      <td>spotify:album:2F1hfUOuMnOxtSfrktL8VX</td>\n",
       "      <td>We The Kings</td>\n",
       "      <td>[throwback, new, song, playlist]</td>\n",
       "      <td>1</td>\n",
       "    </tr>\n",
       "  </tbody>\n",
       "</table>\n",
       "</div>"
      ],
      "text/plain": [
       "                              track_uri        track_name  \\\n",
       "0  spotify:track:1HZ3cUZUw5htSFmah1V8Ko             Shine   \n",
       "1  spotify:track:3H1LCvO3fVsK2HPguhbml0           Forever   \n",
       "2  spotify:track:6UGHk2cmbDC1oidVjXcCKo     Red Barchetta   \n",
       "3  spotify:track:1X5WGCrUMuwRFuYU1eAo2I   Livin on Sunday   \n",
       "4  spotify:track:1b7vg5T9YKR3NNqXfBYRF7  Check Yes Juliet   \n",
       "\n",
       "                              artist_uri      artist_name  \\\n",
       "0  spotify:artist:4e5V1Q2dKCzbLVMQ8qbTn6  Collective Soul   \n",
       "1  spotify:artist:7bXgB6jMjp9ATFy66eO08Z      Chris Brown   \n",
       "2  spotify:artist:2Hkut4rAAyrQxRdof7FVJq             Rush   \n",
       "3  spotify:artist:7vWBZm3sQ8yQvfV4nXxHXK         Cris Cab   \n",
       "4  spotify:artist:3ao3jf5d70Tf4fPh2bnXVl     We The Kings   \n",
       "\n",
       "                              album_uri  \\\n",
       "0  spotify:album:3uSVy9q97sAzd5UE0dMdOT   \n",
       "1  spotify:album:1UtE4zAlSE2TlKmTFgrTg5   \n",
       "2  spotify:album:2xg7iIKoSqaDNpDbJnyCjY   \n",
       "3  spotify:album:2kNznk4KDkYXifzOAUDoXN   \n",
       "4  spotify:album:2F1hfUOuMnOxtSfrktL8VX   \n",
       "\n",
       "                                album_name  \\\n",
       "0  Hints, Allegations & Things Left Unsaid   \n",
       "1          Exclusive - The Forever Edition   \n",
       "2                          Moving Pictures   \n",
       "3                                 Red Road   \n",
       "4                             We The Kings   \n",
       "\n",
       "                                     words  count  \n",
       "0  [awesom, playlist, old, song, playlist]      1  \n",
       "1         [throwback, new, song, playlist]      1  \n",
       "2  [awesom, playlist, old, song, playlist]      1  \n",
       "3         [throwback, new, song, playlist]      1  \n",
       "4         [throwback, new, song, playlist]      1  "
      ]
     },
     "execution_count": 44,
     "metadata": {},
     "output_type": "execute_result"
    }
   ],
   "source": [
    "ticks = time.time()\n",
    "\n",
    "group_track_words = tracks_df_tmp.groupby('track_uri')\n",
    "track_groups = group_track_words.groups\n",
    "\n",
    "num_tracks = len(track_groups)\n",
    "\n",
    "columns = ['track_uri', 'track_name', 'artist_uri', 'artist_name', 'album_uri', 'album_name','words','count']\n",
    "\n",
    "tracks_count = np.zeros(num_tracks) #To store the count of each track in the dataset\n",
    "tracks_df_list = []\n",
    "i=0\n",
    "track_uri_count_dict = {}\n",
    "\n",
    "for track in track_groups:\n",
    "    tmp_list = []\n",
    "    \n",
    "    for index in track_groups[track]:\n",
    "        row = tracks_df_tmp.iloc[index]\n",
    "        tmp_list.extend([word for word in row['name_words']+row['desc_words']])\n",
    "        \n",
    "    tracks_df_list.append([row['track_uri'], row['track_name'],row['artist_uri'],\n",
    "                        row['artist_name'], row['album_uri'], row['album_name'],\n",
    "                        tmp_list,len(track_groups[track])])\n",
    "    track_uri_count_dict[row['track_uri']] = len(track_groups[track])\n",
    "    \n",
    "tracks_df = pd.DataFrame(tracks_df_list,columns=columns)\n",
    "print \"Unique tracks:\", len(tracks_df)\n",
    "tracks_df.to_csv('saved_content/tracks_df.csv', encoding='utf-8', index=False)\n",
    "save_obj(track_uri_count_dict,'track_uri_count_dict')\n",
    "\n",
    "time_taken = time.time() - ticks\n",
    "print('Total time taken:{}'.format(time_taken))\n",
    "tracks_df.head(5)"
   ]
  },
  {
   "cell_type": "code",
   "execution_count": 45,
   "metadata": {
    "collapsed": true
   },
   "outputs": [],
   "source": [
    "bag_of_words = defaultdict(int)\n",
    "count = 0\n",
    "\n",
    "for index, row in tracks_df.iterrows():\n",
    "    for item in row['words']:\n",
    "        if item.lower() not in bag_of_words:\n",
    "            bag_of_words[item.lower()] = count\n",
    "            count += 1"
   ]
  },
  {
   "cell_type": "code",
   "execution_count": 46,
   "metadata": {
    "collapsed": true
   },
   "outputs": [],
   "source": [
    "A = np.zeros(shape=(len(tracks_df),len(bag_of_words)))"
   ]
  },
  {
   "cell_type": "code",
   "execution_count": 47,
   "metadata": {
    "collapsed": true
   },
   "outputs": [],
   "source": [
    "for index, row in tracks_df.iterrows():\n",
    "    for item in row['words']:\n",
    "        A[index][bag_of_words[item.lower()]] += 1"
   ]
  },
  {
   "cell_type": "code",
   "execution_count": 48,
   "metadata": {
    "collapsed": true
   },
   "outputs": [],
   "source": [
    "S = np.matmul(A, A.transpose())\n",
    "norms = np.sum(A*A, axis=1)\n",
    "\n",
    "S = S/np.sqrt(np.matmul(norms[:,None], norms[None,:]))"
   ]
  },
  {
   "cell_type": "code",
   "execution_count": 49,
   "metadata": {
    "collapsed": true
   },
   "outputs": [],
   "source": [
    "ART_SIM = np.zeros(shape=(len(tracks_df),len(tracks_df)))\n",
    "ALB_SIM = np.zeros(shape=(len(tracks_df),len(tracks_df)))"
   ]
  },
  {
   "cell_type": "code",
   "execution_count": 50,
   "metadata": {},
   "outputs": [
    {
     "name": "stdout",
     "output_type": "stream",
     "text": [
      "Total time taken:0.00399994850159\n"
     ]
    }
   ],
   "source": [
    "import time\n",
    "ticks = time.time()\n",
    "\n",
    "groups_artists = tracks_df.groupby('artist_uri')['track_uri']\n",
    "groups_album = tracks_df.groupby('album_uri')['track_uri']\n",
    "\n",
    "from itertools import combinations\n",
    "\n",
    "artist_track_map = groups_artists.groups\n",
    "album_track_map = groups_album.groups\n",
    "for artist in artist_track_map:\n",
    "    for comb in combinations(artist_track_map[artist],2):\n",
    "        ART_SIM[comb[0],comb[1]]=1\n",
    "        ART_SIM[comb[1],comb[0]]=1\n",
    "\n",
    "for album in album_track_map:\n",
    "    for comb in combinations(album_track_map[album],2):\n",
    "        ALB_SIM[comb[0],comb[1]]=1\n",
    "        ALB_SIM[comb[1],comb[0]]=1\n",
    "        \n",
    "np.fill_diagonal(ART_SIM, 1)\n",
    "np.fill_diagonal(ALB_SIM, 1)\n",
    "\n",
    "time_taken = time.time() - ticks\n",
    "print('Total time taken:{}'.format(time_taken))"
   ]
  },
  {
   "cell_type": "code",
   "execution_count": 51,
   "metadata": {
    "collapsed": true
   },
   "outputs": [],
   "source": [
    "test_df = pd.DataFrame()\n",
    "for x in range(num_train_slices, num_train_slices+num_test_slices):\n",
    "    #file_name = './data/mpd.slice.' + str(x*1000) + '-' + str(x*1000+999) + '.json'\n",
    "    file_name = './data/test.json'\n",
    "    with open(file_name) as json_file:\n",
    "        json_data = json.load(json_file)\n",
    "        test_df = pd.concat([test_df, json_normalize(json_data['playlists'])])"
   ]
  },
  {
   "cell_type": "code",
   "execution_count": 52,
   "metadata": {},
   "outputs": [
    {
     "data": {
      "text/html": [
       "<div>\n",
       "<style>\n",
       "    .dataframe thead tr:only-child th {\n",
       "        text-align: right;\n",
       "    }\n",
       "\n",
       "    .dataframe thead th {\n",
       "        text-align: left;\n",
       "    }\n",
       "\n",
       "    .dataframe tbody tr th {\n",
       "        vertical-align: top;\n",
       "    }\n",
       "</style>\n",
       "<table border=\"1\" class=\"dataframe\">\n",
       "  <thead>\n",
       "    <tr style=\"text-align: right;\">\n",
       "      <th></th>\n",
       "      <th>collaborative</th>\n",
       "      <th>description</th>\n",
       "      <th>duration_ms</th>\n",
       "      <th>modified_at</th>\n",
       "      <th>name</th>\n",
       "      <th>num_albums</th>\n",
       "      <th>num_artists</th>\n",
       "      <th>num_edits</th>\n",
       "      <th>num_followers</th>\n",
       "      <th>num_tracks</th>\n",
       "      <th>pid</th>\n",
       "      <th>tracks</th>\n",
       "    </tr>\n",
       "  </thead>\n",
       "  <tbody>\n",
       "    <tr>\n",
       "      <th>0</th>\n",
       "      <td>false</td>\n",
       "      <td>Really New songs are in Playlist</td>\n",
       "      <td>11532414</td>\n",
       "      <td>1493424000</td>\n",
       "      <td>Throwbacks second part</td>\n",
       "      <td>47</td>\n",
       "      <td>37</td>\n",
       "      <td>6</td>\n",
       "      <td>1</td>\n",
       "      <td>52</td>\n",
       "      <td>0</td>\n",
       "      <td>[{u'pos': 0, u'artist_name': u'Missy Elliott',...</td>\n",
       "    </tr>\n",
       "    <tr>\n",
       "      <th>1</th>\n",
       "      <td>false</td>\n",
       "      <td>Old songs are in Playlist</td>\n",
       "      <td>11656470</td>\n",
       "      <td>1506556800</td>\n",
       "      <td>Really Awesome Playlist</td>\n",
       "      <td>23</td>\n",
       "      <td>21</td>\n",
       "      <td>5</td>\n",
       "      <td>1</td>\n",
       "      <td>39</td>\n",
       "      <td>1</td>\n",
       "      <td>[{u'pos': 0, u'artist_name': u'Survivor', u'tr...</td>\n",
       "    </tr>\n",
       "  </tbody>\n",
       "</table>\n",
       "</div>"
      ],
      "text/plain": [
       "  collaborative                       description  duration_ms  modified_at  \\\n",
       "0         false  Really New songs are in Playlist     11532414   1493424000   \n",
       "1         false         Old songs are in Playlist     11656470   1506556800   \n",
       "\n",
       "                      name  num_albums  num_artists  num_edits  num_followers  \\\n",
       "0   Throwbacks second part          47           37          6              1   \n",
       "1  Really Awesome Playlist          23           21          5              1   \n",
       "\n",
       "   num_tracks  pid                                             tracks  \n",
       "0          52    0  [{u'pos': 0, u'artist_name': u'Missy Elliott',...  \n",
       "1          39    1  [{u'pos': 0, u'artist_name': u'Survivor', u'tr...  "
      ]
     },
     "execution_count": 52,
     "metadata": {},
     "output_type": "execute_result"
    }
   ],
   "source": [
    "test_df.head()"
   ]
  },
  {
   "cell_type": "code",
   "execution_count": 53,
   "metadata": {
    "collapsed": true
   },
   "outputs": [],
   "source": [
    "def calculate_scores(uri):\n",
    "    track_index = tracks_df.loc[tracks_df['track_uri']==uri].index[0]\n",
    "    return np.add(S[track_index], np.add(ART_SIM[track_index], ALB_SIM[track_index]))"
   ]
  },
  {
   "cell_type": "code",
   "execution_count": 54,
   "metadata": {},
   "outputs": [
    {
     "name": "stdout",
     "output_type": "stream",
     "text": [
      "20 Suggested songs for playlist- Throwbacks second part :\n",
      "[u\"Jumpin', Jumpin'\", u'Beep', u'Check On It - feat. Bun B and Slim Thug', u'How Do You Sleep? - Featuring Ludacris', u'A Thousand Miles', u'Everytime We Touch - Radio Edit', u'Sk8er Boi', u'Mr. Brightside', u'Run It!', u'All The Small Things', u'Baby', u'Your Love Is My Drug', u'Party In The U.S.A.', u'This Is Me', u'My Happy Ending', u'Me & U', u\"Leavin'\", u'Replay', u'Somebody To Love', u\"Stacy's Mom\", u'Soak Up The Sun', u'Dirty Little Secret', u'Forever', u'Where Is The Love?', u'Livin on Sunday', u'Check Yes Juliet', u'Paper Planes', u'Lip Gloss', u'Yo (Excuse Me Miss)', u'One Less Lonely Girl', u'Closer', u'Ice Box', u'Just The Girl', u'Right Where You Want Me - Radio Edit Version', u'Whatcha Say', u'Beautiful Soul', u'Year 3000', u'See You Again', u'Miss Independent', u'The Room Where It Happens', u'Right Hand Man', u'Limelight', u'Kashmir', u'I am the Doctor in Utah', u'Sympathy For The Devil', u'Tom Sawyer', u'Peace of Mind', u'Shine', u'Carry on Wayward Son', u'Eye of the Tiger', u'Red Barchetta', u'Concerning Hobbits (The Lord of the Rings)', u'U.N. Owen Was Her? (Remix)', u'Witch Hunt', u\"He's a Pirate (Pirates of the Caribbean)\", u'Bohemian Rhapsody - Remastered 2011', u'Fortunate Son', u'Stairway To Heaven', u'Libera Me From Hell (Tengen Toppa Gurren Lagann)', u'The Camera Eye', u'YYZ', u'Hold the Line', u'More Than a Feeling', u\"Sweet Child O' Mine\", u'Free Bird', u'Gimme Shelter', u'Crazy', u\"Very Bloody Tears (Castlevania II: Simon's Quest)\", u'Sweet Home Alabama', u'The Blood of Cuchulainn (The Boondock Saints)', u'Alexander Hamilton', u'Ghost Love Score', u'Pok\\xe9mon Theme', u'My Shot', u'The Majestic Tale (Of A Madman In A Box)', u'Rock You Like A Hurricane', u'Foreplay / Long Time'] \n",
      "\n",
      "20 Suggested songs for playlist- Really Awesome Playlist :\n",
      "[u'Pok\\xe9mon Theme', u'Alexander Hamilton', u'My Shot', u'The Majestic Tale (Of A Madman In A Box)', u'Crazy', u'Free Bird', u'Sweet Home Alabama', u\"Sweet Child O' Mine\", u'Gimme Shelter', u'Shine', u'More Than a Feeling', u'Rock You Like A Hurricane', u'Peace of Mind', u'Sympathy For The Devil', u'Tom Sawyer', u'Limelight', u'Kashmir', u'Ghost Love Score', u'Hold the Line', u'Carry on Wayward Son', u'YYZ', u'Red Barchetta', u'Witch Hunt', u'Bohemian Rhapsody - Remastered 2011', u'Fortunate Son', u'Stairway To Heaven', u'The Camera Eye', u'Foreplay / Long Time', u'Lose Control (feat. Ciara & Fat Man Scoop)', u'Toxic', u'Forever', u\"Leavin'\", u\"It Wasn't Me\", u'Your Love Is My Drug', u'Baby', u'Paper Planes', u'My Boo', u'A Thousand Miles', u'Promiscuous', u'Beep', u'Where Is The Love?', u'Soak Up The Sun', u'See You Again', u'Just The Girl', u\"Jumpin', Jumpin'\", u'One Less Lonely Girl', u'Yo (Excuse Me Miss)', u'Check On It - feat. Bun B and Slim Thug', u'Check Yes Juliet', u'Livin on Sunday', u'Yeah!', u'Replay', u'Me & U', u'The Great Escape', u'Year 3000', u'Right Where You Want Me - Radio Edit Version', u'Run It!', u'Party In The U.S.A.', u'This Is Me', u'Miss Independent', u'Crazy In Love', u\"Stacy's Mom\", u'Somebody To Love', u'How Do You Sleep? - Featuring Ludacris', u'Closer', u'Whatcha Say', u'Beautiful Soul', u'Say My Name', u'My Happy Ending', u'All The Small Things', u'Rock Your Body', u'Everytime We Touch - Radio Edit', u'Sk8er Boi', u'Ice Box', u'Dirty Little Secret', u'Hey Ya! - Radio Mix / Club Mix', u'Lip Gloss', u'Buttons', u'Mr. Brightside'] \n",
      "\n"
     ]
    }
   ],
   "source": [
    "def get_predictions(row):\n",
    "    \n",
    "    score = np.zeros(len(tracks_df))\n",
    "    \n",
    "    this_playlist = set([])\n",
    "    for song in row['tracks']:\n",
    "        this_playlist.add(str(song['track_uri']))\n",
    "        if any(tracks_df['track_uri'] == str(song['track_uri'])):   # for now, only if the song is in training data, we calculate\n",
    "            score = np.add(score, calculate_scores(song['track_uri']))\n",
    "    \n",
    "    indices = np.argsort(-score)\n",
    "    score[::-1].sort()\n",
    "    \n",
    "    count = 0\n",
    "    sims = []\n",
    "    predicted_tracks = []\n",
    "    for x in range(len(tracks_df)):\n",
    "        if count == num_predictions:\n",
    "            break\n",
    "        if str(tracks_df.iloc[indices[x]]['track_uri']) not in this_playlist:\n",
    "            sims.append(tracks_df.iloc[indices[x]]['track_name'])\n",
    "            predicted_tracks.append(tracks_df.iloc[indices[x]])\n",
    "            count += 1\n",
    "    return predicted_tracks\n",
    "\n",
    "def get_predictions_test(row):\n",
    "    sims = [track['track_name'] for track in get_predictions(row)]\n",
    "    print \"20 Suggested songs for playlist-\", row['name'], \":\"\n",
    "    print sims, \"\\n\"\n",
    "\n",
    "    \n",
    "for index,row in test_df.iterrows():\n",
    "    get_predictions_test(row)   "
   ]
  },
  {
   "cell_type": "markdown",
   "metadata": {},
   "source": [
    "# ARTIST- ARTIST SIMILARITY"
   ]
  },
  {
   "cell_type": "code",
   "execution_count": 55,
   "metadata": {},
   "outputs": [
    {
     "name": "stdout",
     "output_type": "stream",
     "text": [
      "Total time taken:0.00399994850159\n",
      "92\n"
     ]
    },
    {
     "data": {
      "text/html": [
       "<div>\n",
       "<style>\n",
       "    .dataframe thead tr:only-child th {\n",
       "        text-align: right;\n",
       "    }\n",
       "\n",
       "    .dataframe thead th {\n",
       "        text-align: left;\n",
       "    }\n",
       "\n",
       "    .dataframe tbody tr th {\n",
       "        vertical-align: top;\n",
       "    }\n",
       "</style>\n",
       "<table border=\"1\" class=\"dataframe\">\n",
       "  <thead>\n",
       "    <tr style=\"text-align: right;\">\n",
       "      <th></th>\n",
       "      <th>pid</th>\n",
       "      <th>name</th>\n",
       "      <th>artist_uri</th>\n",
       "      <th>artist_name</th>\n",
       "    </tr>\n",
       "  </thead>\n",
       "  <tbody>\n",
       "    <tr>\n",
       "      <th>0</th>\n",
       "      <td>0</td>\n",
       "      <td>Throwbacks</td>\n",
       "      <td>spotify:artist:2wIVse2owClT7go1WT98tk</td>\n",
       "      <td>Missy Elliott</td>\n",
       "    </tr>\n",
       "    <tr>\n",
       "      <th>1</th>\n",
       "      <td>0</td>\n",
       "      <td>Throwbacks</td>\n",
       "      <td>spotify:artist:26dSoYclwsYLMAKD3tpOr4</td>\n",
       "      <td>Britney Spears</td>\n",
       "    </tr>\n",
       "    <tr>\n",
       "      <th>2</th>\n",
       "      <td>0</td>\n",
       "      <td>Throwbacks</td>\n",
       "      <td>spotify:artist:6vWDO969PvNqNYHIOW5v0m</td>\n",
       "      <td>Beyoncé</td>\n",
       "    </tr>\n",
       "    <tr>\n",
       "      <th>3</th>\n",
       "      <td>0</td>\n",
       "      <td>Throwbacks</td>\n",
       "      <td>spotify:artist:31TPClRtHm23RisEBtV3X7</td>\n",
       "      <td>Justin Timberlake</td>\n",
       "    </tr>\n",
       "    <tr>\n",
       "      <th>4</th>\n",
       "      <td>0</td>\n",
       "      <td>Throwbacks</td>\n",
       "      <td>spotify:artist:5EvFsr3kj42KNv97ZEnqij</td>\n",
       "      <td>Shaggy</td>\n",
       "    </tr>\n",
       "  </tbody>\n",
       "</table>\n",
       "</div>"
      ],
      "text/plain": [
       "   pid        name                             artist_uri        artist_name\n",
       "0    0  Throwbacks  spotify:artist:2wIVse2owClT7go1WT98tk      Missy Elliott\n",
       "1    0  Throwbacks  spotify:artist:26dSoYclwsYLMAKD3tpOr4     Britney Spears\n",
       "2    0  Throwbacks  spotify:artist:6vWDO969PvNqNYHIOW5v0m            Beyoncé\n",
       "3    0  Throwbacks  spotify:artist:31TPClRtHm23RisEBtV3X7  Justin Timberlake\n",
       "4    0  Throwbacks  spotify:artist:5EvFsr3kj42KNv97ZEnqij             Shaggy"
      ]
     },
     "execution_count": 55,
     "metadata": {},
     "output_type": "execute_result"
    }
   ],
   "source": [
    "import time\n",
    "ticks = time.time()\n",
    "columns = ['pid', 'name', 'artist_uri', 'artist_name']\n",
    "\n",
    "artist_df_list = []\n",
    "\n",
    "for row in df.itertuples():\n",
    "    tracks = row.tracks\n",
    "    for song in tracks:\n",
    "        artist_df_list.append([row.pid,row.name,song['artist_uri'],song['artist_name']])\n",
    "\n",
    "artist_df_tmp = pd.DataFrame(artist_df_list, columns=columns)\n",
    "\n",
    "time_taken = time.time() - ticks\n",
    "print('Total time taken:{}'.format(time_taken))\n",
    "print(len(artist_df_tmp))\n",
    "artist_df_tmp.head()"
   ]
  },
  {
   "cell_type": "code",
   "execution_count": 56,
   "metadata": {},
   "outputs": [
    {
     "name": "stdout",
     "output_type": "stream",
     "text": [
      "Total time taken:0.0320000648499\n"
     ]
    }
   ],
   "source": [
    "ticks = time.time()\n",
    "artist_groups = artist_df_tmp.groupby('artist_uri').groups\n",
    "\n",
    "num_artists = len(artist_groups)\n",
    "\n",
    "artist_playlist_matrix = np.zeros((num_artists,num_train_slices*1000))#Matrix to store the artist vectors\n",
    "\n",
    "artists_uri_train = []\n",
    "\n",
    "i=0\n",
    "for artist in artist_groups:\n",
    "    artists_uri_train.append(artist)\n",
    "    for index in artist_groups[artist]:\n",
    "        pid = artist_df_tmp.iloc[index]['pid']\n",
    "        artist_playlist_matrix[i][pid]=1\n",
    "    i+=1\n",
    "\n",
    "artists_uri_train = np.array(artists_uri_train)\n",
    "\n",
    "time_taken = time.time() - ticks\n",
    "print('Total time taken:{}'.format(time_taken))"
   ]
  },
  {
   "cell_type": "code",
   "execution_count": 57,
   "metadata": {},
   "outputs": [
    {
     "name": "stdout",
     "output_type": "stream",
     "text": [
      "Number of artists: 58\n"
     ]
    }
   ],
   "source": [
    "print \"Number of artists:\", num_artists"
   ]
  },
  {
   "cell_type": "code",
   "execution_count": 58,
   "metadata": {},
   "outputs": [
    {
     "name": "stdout",
     "output_type": "stream",
     "text": [
      "Time taken: 0.00800013542175\n"
     ]
    }
   ],
   "source": [
    "ticks1 = time.time()\n",
    "\n",
    "from scipy import sparse\n",
    "sparse_art_plst_mtrx = sparse.csr_matrix(artist_playlist_matrix)\n",
    "\n",
    "from sklearn.metrics.pairwise import cosine_similarity\n",
    "Artist_sim_weights = cosine_similarity(sparse_art_plst_mtrx)\n",
    "np.save('saved_content/Artist_sim_weights', Artist_sim_weights)\n",
    "\n",
    "ticks2 = time.time()\n",
    "\n",
    "print \"Time taken:\", ticks2-ticks1"
   ]
  },
  {
   "cell_type": "code",
   "execution_count": 59,
   "metadata": {
    "collapsed": true
   },
   "outputs": [],
   "source": [
    "Art_to_ind_dict = {art:i for (i,),art in np.ndenumerate(artists_uri_train)}\n",
    "save_obj(Art_to_ind_dict,'Art_to_ind_dict')"
   ]
  }
 ],
 "metadata": {
  "kernelspec": {
   "display_name": "Python 2",
   "language": "python",
   "name": "python2"
  },
  "language_info": {
   "codemirror_mode": {
    "name": "ipython",
    "version": 2
   },
   "file_extension": ".py",
   "mimetype": "text/x-python",
   "name": "python",
   "nbconvert_exporter": "python",
   "pygments_lexer": "ipython2",
   "version": "2.7.14"
  }
 },
 "nbformat": 4,
 "nbformat_minor": 2
}
